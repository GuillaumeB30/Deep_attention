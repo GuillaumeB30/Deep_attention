{
 "cells": [
  {
   "cell_type": "code",
   "execution_count": 1,
   "id": "e7fcd268-afaa-4537-9a25-b31015ac3dff",
   "metadata": {},
   "outputs": [],
   "source": [
    "import torch\n",
    "import torchvision\n",
    "import matplotlib.pyplot as plt\n",
    "from torch import nn"
   ]
  },
  {
   "cell_type": "markdown",
   "id": "8b28d6ac-6587-4372-a7e6-30ccc193aa29",
   "metadata": {},
   "source": [
    "# Création de la classe Transformers"
   ]
  },
  {
   "cell_type": "markdown",
   "id": "b3f4c4f7-aeae-4eb8-9e6a-425adc80d048",
   "metadata": {},
   "source": [
    "Création des différentes couches"
   ]
  },
  {
   "cell_type": "code",
   "execution_count": 5,
   "id": "0b435002-af4e-4743-8939-31101cb2422d",
   "metadata": {},
   "outputs": [],
   "source": [
    "class FeedForwardNetwork(nn.Module):\n",
    "    \n",
    "    def __init__(self, d_model, d_ff):\n",
    "        super(FeedForwardNetwork, self).__init__()\n",
    "        \n",
    "        self.fc1 = nn.Linear(d_model, d_ff)\n",
    "        self.fc2 = nn.Linear(d_ff, d_model)\n",
    "        self.relu = nn.ReLU()\n",
    "\n",
    "    def forward(self, x):\n",
    "        return self.fc2(self.relu(self.fc1(x)))"
   ]
  },
  {
   "cell_type": "code",
   "execution_count": 7,
   "id": "38f8d9a1-8aec-4970-9a73-141c74d8d02c",
   "metadata": {},
   "outputs": [],
   "source": [
    "# Optionel : Coder notre propre couche multi-attention head (pour ne pas utiliser celle fournit par torch.nn)"
   ]
  },
  {
   "cell_type": "code",
   "execution_count": 9,
   "id": "0636a980-6485-4023-b485-732845a49f6d",
   "metadata": {},
   "outputs": [],
   "source": [
    "def mask(x):\n",
    "    len = x.size(0)\n",
    "    mask = torch.triu(torch.ones(len,len), diag = 1) * (-1) * float(\"inf\") # Matrice triangulaire supérieur de valeur -inf\n",
    "    return mask"
   ]
  },
  {
   "cell_type": "code",
   "execution_count": 11,
   "id": "7f89e55d-5a9d-4186-98c1-3f4d042fc7c5",
   "metadata": {},
   "outputs": [],
   "source": [
    "class PositionalEncoding(nn.Module):\n",
    "\n",
    "    def __init__(self, max_length, d_model):\n",
    "        super(PositionalEncoding, self).__init__()\n",
    "        \n",
    "        pe = torch.zeros(max_length, d_model)\n",
    "        position = torch.arange(0, max_length, dtype=torch.float).unsqueeze(1)\n",
    "        div_term = torch.exp(torch.arange(0, d_model, 2).float() * -(math.log(10000.0) / d_model))\n",
    "        \n",
    "        pe[:, 0::2] = torch.sin(position * div_term)\n",
    "        pe[:, 1::2] = torch.cos(position * div_term)\n",
    "        \n",
    "        self.register_buffer('pe', pe.unsqueeze(0))\n",
    "        \n",
    "    def forward(self, x):\n",
    "        return x + self.pe[:, :x.size(1)]\n",
    "        "
   ]
  },
  {
   "cell_type": "code",
   "execution_count": 13,
   "id": "1b1a857c-a787-4f5b-8408-093e8a636158",
   "metadata": {},
   "outputs": [],
   "source": [
    "class Encoder(nn.Module):\n",
    "\n",
    "    def __init__(self, d_model, n_heads, d_ff):\n",
    "        super(Encoder, self).__init__()\n",
    "\n",
    "        self.attention = torch.nn.MultiheadAttention(d_model, n_heads)\n",
    "        self.norm1 = nn.LayerNorm(d_model)\n",
    "        self.ffn = FeedForwardNetwork(d_model, d_ff)\n",
    "        self.norm2 = nn.LayerNorm(d_model)\n",
    "        \n",
    "\n",
    "    def forward(self, x):\n",
    "        attention_output = self.attention(x, x, x)\n",
    "        x = self.norm1(x + attention_output)\n",
    "        ffn_output = self.ffn(x)\n",
    "        x = self.norm2(x + ffn_output)\n",
    "        return x\n",
    "\n"
   ]
  },
  {
   "cell_type": "code",
   "execution_count": 15,
   "id": "2df9652d-bc17-4923-a110-72fb57893c0a",
   "metadata": {},
   "outputs": [],
   "source": [
    "class Decoder(nn.Module):\n",
    "\n",
    "    def __init__(self, d_model, num_heads, d_ff):\n",
    "        super(Decoder, self).__init__()\n",
    "\n",
    "        self.attention1 = torch.nn.MultiheadAttention(d_model, n_heads)\n",
    "        self.norm1 = nn.LayerNorm(d_model)\n",
    "        self.attention2 = torch.nn.MultiheadAttention(d_model, n_heads)\n",
    "        self.norm2 = nn.LayerNorm(d_model)\n",
    "        self.ffn = FeedForwardNetwork(d_model, d_ff)\n",
    "        self.norm3 = nn.LayerNorm(d_model)\n",
    "\n",
    "    def forward(self, x, enc_output, mask):\n",
    "        attention_output1 = self.attention1(x, x, x,attn_mask = mask)\n",
    "        x = self.norm1(x + attention_output)\n",
    "        attention_output2 = self.attention2(x, enc_output, enc_output)\n",
    "        x = self.norm2(x + attention_output2)\n",
    "        ffn_output = self.ffn(x)\n",
    "        x = self.norm3(x + ffn_output)\n",
    "        return x\n",
    "\n"
   ]
  },
  {
   "cell_type": "code",
   "execution_count": 19,
   "id": "2f440a5e-05d8-48ad-97c3-8b42eeaa1e21",
   "metadata": {},
   "outputs": [],
   "source": [
    "class Transformer(nn.Module):\n",
    "\n",
    "    def __init__(self, vocab_size, target_size, max_length, d_model, num_heads, d_ff, n_layers):\n",
    "        super(Transformer, self).__init__()\n",
    "        \n",
    "        self.enc_embedding = nn.Embedding(vocab_size, d_model)\n",
    "        self.dec_embedding = nn.Embedding(target_size, d_model)\n",
    "        self.positional_encoding = PositionalEncoding(max_length, d_model)\n",
    "        \n",
    "        self.encoder_layers = [Encoder(d_model, num_heads,d_ff) for i in range(n_layers)]\n",
    "        self.decoder_layers = [Decoder(d_model, num_heads, d_ff) for i in range(n_layers)]\n",
    "\n",
    "        self.linear = nn.Linear(d_model, target_size)\n",
    "        self.softmax = nn.Softmax()\n",
    "\n",
    "    def forward(inp,out):\n",
    "        mask = mask(out)\n",
    "        out_embedded = self.positional_encoding(self.dec_embedding(out))\n",
    "        inp_embedded = self.positional_encoding(self.enc_embedding(inp))\n",
    "\n",
    "        enc_output = inp_embedded\n",
    "        for encoder in self.encoder_layers:\n",
    "            enc_output = encoder(enc_output)\n",
    "\n",
    "        dec_output = out_embedded\n",
    "        for decoder in self.decoder_layers:\n",
    "            dec_output = decoder(dec_output, enc_output, mask)\n",
    "\n",
    "        output = self.softmax(self.linear(dec_output))\n",
    "\n",
    "        return output   "
   ]
  },
  {
   "cell_type": "markdown",
   "id": "f1bca86b-2ff1-4662-b9c4-8eb454e41c00",
   "metadata": {},
   "source": [
    "# Mise en forme des données"
   ]
  },
  {
   "cell_type": "code",
   "execution_count": null,
   "id": "de786ef9-1eff-42d1-8194-4089c3bfb59c",
   "metadata": {},
   "outputs": [],
   "source": [
    "# TODO : Absolument tout"
   ]
  }
 ],
 "metadata": {
  "kernelspec": {
   "display_name": "Python 3 (ipykernel)",
   "language": "python",
   "name": "python3"
  },
  "language_info": {
   "codemirror_mode": {
    "name": "ipython",
    "version": 3
   },
   "file_extension": ".py",
   "mimetype": "text/x-python",
   "name": "python",
   "nbconvert_exporter": "python",
   "pygments_lexer": "ipython3",
   "version": "3.12.3"
  }
 },
 "nbformat": 4,
 "nbformat_minor": 5
}
